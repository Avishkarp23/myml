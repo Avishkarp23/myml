{
 "cells": [
  {
   "cell_type": "code",
   "execution_count": 1,
   "metadata": {},
   "outputs": [],
   "source": [
    "import cv2\n",
    "import scrapy\n",
    "import pytesseract\n",
    "from selenium import webdriver\n",
    "from selenium.webdriver.support.ui import WebDriverWait\n",
    "from selenium import webdriver\n",
    "from selenium.webdriver.common.by import By\n",
    "from selenium.webdriver.common.keys import Keys\n",
    "from selenium.webdriver.support.relative_locator import locate_with\n",
    "import time\n",
    "import urllib.request\n",
    "from PIL import Image"
   ]
  },
  {
   "cell_type": "code",
   "execution_count": 3,
   "metadata": {},
   "outputs": [
    {
     "name": "stdout",
     "output_type": "stream",
     "text": [
      "Enter Vehicle NumberMH14GZ6489\n",
      "True\n",
      "regenerate\n",
      "True\n",
      "regenerate\n",
      "True\n",
      "regenerate\n",
      "True\n",
      "regenerate\n",
      "True\n",
      "regenerate\n",
      "True\n",
      "regenerate\n",
      "True\n",
      "regenerate\n",
      "False\n",
      "<class 'str'>\n",
      "MH14GZ6489\n",
      "Status: ACTIVE\n",
      "M-Cycle/Scooter(2WN)\n",
      "PETROL\n",
      "BHARAT STAGE IV\n",
      "ACTIVA 5G\n",
      "HONDA MOTORCYCLE AND SCOOTER INDIA (P) LTD\n",
      "DY RTO PIMPRI CHINCHWAD, Maharashtra\n",
      "Owner Name:\n",
      "*E*L*T* *O*E*H*A* *W*S*R*\n",
      "Registration Date:\n",
      "28-Jun-2018\n",
      "Validity\n",
      "Fitness/REGN:\n",
      "27-Jun-2033\n",
      "MV Tax:\n",
      "LTT\n",
      "PUCC:\n",
      "NA\n",
      "*If Insurance/PUCC validity are not available, same may be verified from physical document.\n",
      "out of loop\n"
     ]
    }
   ],
   "source": [
    "#logging in\n",
    "phone=\"9284608123\"\n",
    "password=\"73625140@Vi\"\n",
    "vehicleno=input(\"Enter Vehicle Number\").upper()\n",
    "driver=webdriver.Chrome(\"chromedriver\")\n",
    "driver.get(\"https://vahan.parivahan.gov.in/nrservices/faces/user/citizen/citizenlogin.xhtml\")\n",
    "driver.find_element(By.ID,\"TfMOBILENO\").send_keys(phone)\n",
    "driver.find_element(By.NAME,\"btRtoLogin\").click()\n",
    "time.sleep(2)\n",
    "driver.find_element(By.ID,\"tfPASSWORD\").send_keys(password)\n",
    "driver.find_element(By.NAME,\"btRtoLogin\").click()\n",
    "WebDriverWait(driver=driver, timeout=10).until(\n",
    "    lambda x: x.execute_script(\"return document.readyState === 'complete'\")\n",
    ")\n",
    "first=1\n",
    "#Bypassing the captcha\n",
    "while(driver.find_element(By.ID,\"userMessages\").is_displayed() or first==1 ):\n",
    "    \n",
    "    if first==1:\n",
    "        first=0\n",
    "        left=472.5\n",
    "        top=432\n",
    "        right=612.5\n",
    "        bottom=485\n",
    "    else:\n",
    "        print(\"regenerate\")\n",
    "        time.sleep(2)\n",
    "        driver.find_element(By.ID,\"vahancaptcha:btn_Captchaid\").click()\n",
    "        left=472.5\n",
    "        top=432+80\n",
    "        right=612.5\n",
    "        bottom=485+80\n",
    "        \n",
    "        time.sleep(5)\n",
    "\n",
    "    driver.get_screenshot_as_file(\"screenshot.png\")\n",
    "    img=Image.open(\"screenshot.png\")\n",
    "    im2=img.crop((left,top,right,bottom))\n",
    "    im2.save(\"im2.png\")\n",
    "    image = cv2.imread('im2.png',0)\n",
    "    thresh = cv2.threshold(image, 170, 255, cv2.THRESH_BINARY_INV)[1]\n",
    "\n",
    "    result = cv2.GaussianBlur(thresh, (5,5), 0)\n",
    "    result = 255 - result\n",
    "    pytesseract.pytesseract.tesseract_cmd = r'C:\\Program Files\\Tesseract-OCR\\tesseract.exe'\n",
    "    data = pytesseract.image_to_string(thresh, lang='eng',config='--psm 6')\n",
    "    captcha=data[0:5]\n",
    "    time.sleep(10)\n",
    "    #captcha=pytesseract.image_to_string(im2,lang='eng',config='--psm 6')\n",
    "    driver.find_element(By.ID,\"regn_no1_exact\").send_keys(vehicleno)\n",
    "    time.sleep(5)\n",
    "    driver.find_element(By.ID,\"vahancaptcha:CaptchaID\").send_keys(captcha)\n",
    "    time.sleep(5)\n",
    "    driver.find_element(By.ID,\"j_idt60\").click()\n",
    "    time.sleep(7)\n",
    "    print(driver.find_element(By.ID,\"userMessages\").is_displayed() or first==1 )\n",
    "    \n",
    "info=driver.find_element(By.ID,\"resultPanel\").text\n",
    "print(type(info))\n",
    "print(info)\n",
    "    #print(driver.find_element(By.ID,\"userMessages\").is_displayed() or first==1 or driver.find_element(By.CLASS_NAME,\"ui-message-war-summary\").is_displayed())\n",
    "#WebDriverWait(driver=driver, timeout=10).until(\n",
    "   # lambda x: x.execute_script(\"return document.readyState === 'complete'\")\n",
    "print(\"out of loop\")"
   ]
  },
  {
   "cell_type": "code",
   "execution_count": null,
   "metadata": {},
   "outputs": [],
   "source": [
    "print(\"captcha\")\n"
   ]
  },
  {
   "cell_type": "code",
   "execution_count": null,
   "metadata": {},
   "outputs": [],
   "source": []
  },
  {
   "cell_type": "code",
   "execution_count": null,
   "metadata": {},
   "outputs": [],
   "source": []
  },
  {
   "cell_type": "code",
   "execution_count": null,
   "metadata": {},
   "outputs": [],
   "source": []
  },
  {
   "cell_type": "code",
   "execution_count": null,
   "metadata": {},
   "outputs": [],
   "source": [
    "\n",
    "\n",
    "+"
   ]
  }
 ],
 "metadata": {
  "kernelspec": {
   "display_name": "Python 3",
   "language": "python",
   "name": "python3"
  },
  "language_info": {
   "codemirror_mode": {
    "name": "ipython",
    "version": 3
   },
   "file_extension": ".py",
   "mimetype": "text/x-python",
   "name": "python",
   "nbconvert_exporter": "python",
   "pygments_lexer": "ipython3",
   "version": "3.8.5"
  }
 },
 "nbformat": 4,
 "nbformat_minor": 4
}
